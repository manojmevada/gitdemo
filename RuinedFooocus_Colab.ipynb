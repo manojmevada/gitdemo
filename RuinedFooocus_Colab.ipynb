{
 "cells": [
  {
   "cell_type": "markdown",
   "metadata": {},
   "source": ["# RuinedFooocus on Google Colab"]
  },
  {
   "cell_type": "code",
   "execution_count": null,
   "metadata": {},
   "outputs": [],
   "source": [
    "# 📂 Mount Drive\n",
    "from google.colab import drive\n",
    "drive.mount('/content/drive')\n",
    "\n",
    "# 📂 Clone / update RuinedFooocus into Drive\n",
    "import os, subprocess, shutil\n",
    "R_PATH = \"/content/drive/MyDrive/RuinedFooocus\"\n",
    "if not os.path.exists(R_PATH):\n",
    "    subprocess.run([\"git\", \"clone\", \"https://github.com/runew0lf/RuinedFooocus.git\", R_PATH], check=True)\n",
    "else:\n",
    "    subprocess.run([\"git\", \"-C\", R_PATH, \"pull\"], check=True)\n",
    "%cd $R_PATH"
   ]
  },
  {
   "cell_type": "code",
   "execution_count": null,
   "metadata": {},
   "outputs": [],
   "source": [
    "# 🔧 Python deps\n",
    "!pip install -r requirements_versions.txt -q"
   ]
  },
  {
   "cell_type": "code",
   "execution_count": null,
   "metadata": {},
   "outputs": [],
   "source": [
    "# 📥 Download SDXL models (only if missing)\n",
    "import os, torch\n",
    "from huggingface_hub import hf_hub_download\n",
    "MODEL_DIR = f\"{R_PATH}/models/checkpoints\"\n",
    "os.makedirs(MODEL_DIR, exist_ok=True)\n",
    "base_path = f\"{MODEL_DIR}/sd_xl_base_1.0_0.9vae.safetensors\"\n",
    "if not os.path.exists(base_path):\n",
    "    hf_hub_download(repo_id=\"stabilityai/stable-diffusion-xl-base-1.0\", filename=\"sd_xl_base_1.0_0.9vae.safetensors\", local_dir=MODEL_DIR)"
   ]
  },
  {
   "cell_type": "code",
   "execution_count": null,
   "metadata": {},
   "outputs": [],
   "source": [
    "# 🚀 Launch Web UI\n",
    "!python launch.py --listen --share --always-high-vram"
   ]
  }
 ],
 "metadata": {
  "kernelspec": {
   "display_name": "Python 3",
   "language": "python",
   "name": "python3"
  },
  "language_info": {
   "name": "python",
   "version": "3.10.12"
  }
 },
 "nbformat": 4,
 "nbformat_minor": 4
}
