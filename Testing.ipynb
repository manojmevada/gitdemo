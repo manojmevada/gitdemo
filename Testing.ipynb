{
  "cells": [
    {
      "cell_type": "code",
      "execution_count": null,
      "metadata": {},
      "outputs": [],
      "source": [
        "from google.colab import drive\n",
        "drive.mount('/content/drive')"
      ]
    },
    {
      "cell_type": "code",
      "execution_count": null,
      "metadata": {},
      "outputs": [],
      "source": [
        "%cd /content\n",
        "import os, shutil, subprocess\n",
        "\n",
        "FOOOCUS_PATH = \"/content/drive/MyDrive/Fooocus\"\n",
        "\n",
        "if not os.path.exists(FOOOCUS_PATH):\n",
        "    print(\"🔍  Fooocus not found in Drive – cloning…\")\n",
        "    subprocess.run([\"git\", \"clone\", \"https://github.com/lllyasviel/Fooocus.git\", FOOOCUS_PATH], check=True)\n",
        "else:\n",
        "    print(\"✅  Fooocus already in Drive – skipping clone.\")\n",
        "\n",
        "%cd {FOOOCUS_PATH}"
      ]
    },
    {
      "cell_type": "code",
      "execution_count": null,
      "metadata": {},
      "outputs": [],
      "source": [
        "MODELS_DIR = f\"{FOOOCUS_PATH}/models\"\n",
        "os.makedirs(MODELS_DIR, exist_ok=True)\n",
        "# If you uploaded checkpoints into Drive/models, nothing else is needed"
      ]
    },
    {
      "cell_type": "code",
      "execution_count": null,
      "metadata": {},
      "outputs": [],
      "source": [
        "!pip install -r requirements.txt --quiet\n",
        "!python entry_with_update.py --share --always-high-vram\n"
      ]
    },
    {
      "cell_type": "code",
      "execution_count": null,
      "metadata": {},
      "outputs": [],
      "source": []
    }
  ],
  "metadata": {
    "colab": {
      "name": "Overview of Colaboratory Features",
      "provenance": [],
      "toc_visible": true
    },
    "kernelspec": {
      "display_name": "Python 3",
      "name": "python3"
    }
  },
  "nbformat": 4,
  "nbformat_minor": 0
}
